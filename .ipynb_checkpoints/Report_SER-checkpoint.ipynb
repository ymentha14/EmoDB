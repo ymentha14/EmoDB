{
 "cells": [
  {
   "cell_type": "markdown",
   "metadata": {},
   "source": [
    "# Introduction"
   ]
  },
  {
   "cell_type": "markdown",
   "metadata": {},
   "source": [
    "Do not spend too much time trying to get very tiny metrics improvement. Once you have a model with a correct predictive power, you should better spend time explaining your data cleaning & preparation pipeline as well as explanations & visualizations of the results.\n",
    "\n",
    "The goal is to see your fit with our company culture & engineering needs, spending 50h on an over-complicated approach will not give you bonus points compared to a simple, yet effective, to-the-point solution."
   ]
  },
  {
   "cell_type": "markdown",
   "metadata": {},
   "source": [
    "## About the data"
   ]
  },
  {
   "cell_type": "markdown",
   "metadata": {},
   "source": [
    "The dataset you will be working with is called Emo-DB and can be found [here](http://emodb.bilderbar.info/index-1280.html).\n",
    "\n",
    "It is a database containing samples of emotional speech in German. It contains samples labeled with one of 7 different emotions: Anger, Boredom, Disgust, Fear, Happiness, Sadness and Neutral. \n",
    "\n",
    "Please download the full database and refer to the documentation to understand how the samples are labeled (see \"Additional information\")\n",
    "   \n",
    "The goal of this project is to develop a model which is able to **classify samples of emotional speech**. Feel free to use any available library you would need, but beware of re-using someone else's code without mentionning it!"
   ]
  },
  {
   "cell_type": "markdown",
   "metadata": {},
   "source": [
    "## Deliverable"
   ]
  },
  {
   "cell_type": "markdown",
   "metadata": {},
   "source": [
    "The end-goal is to deliver us a zip file containing:\n",
    "* This report filled with your approach, in the form of an **iPython Notebook**.\n",
    "* A **5-10 slides PDF file**, containing a technical presentation covering the important aspects of your work\n",
    "* A Dockerfile which defines a container for the project. The container should handle everything (download the data, run the code, etc...). When running the container it should expose the jupyter notebook on one port and expose a Flask API on another one. The Flask app contains two endpoints:\n",
    "  - One for training the model\n",
    "  - One for querying the last trained model with an audio file of our choice in the dataset\n",
    "* A README.md which should contain the commands to build and run the docker container, as well as how to perform the queries to the API. \n",
    "* Any necessary .py, .sh or other files needed to run your code."
   ]
  },
  {
   "cell_type": "markdown",
   "metadata": {},
   "source": [
    "# Libraries Loading"
   ]
  },
  {
   "cell_type": "code",
   "execution_count": 1,
   "metadata": {},
   "outputs": [],
   "source": [
    "%load_ext lab_black"
   ]
  },
  {
   "cell_type": "code",
   "execution_count": 79,
   "metadata": {},
   "outputs": [
    {
     "name": "stdout",
     "output_type": "stream",
     "text": [
      "The autoreload extension is already loaded. To reload it, use:\n",
      "  %reload_ext autoreload\n"
     ]
    }
   ],
   "source": [
    "import glob\n",
    "from scipy.io import wavfile\n",
    "import skorch\n",
    "from skorch import callbacks\n",
    "from sklearn.metrics import accuracy_score\n",
    "import os\n",
    "from skorch import NeuralNetClassifier\n",
    "import numpy as np\n",
    "from skorch.callbacks import EpochScoring\n",
    "import torch\n",
    "import torch.nn as nn\n",
    "import seaborn as sns\n",
    "sns.set()\n",
    "import torch.optim as optim\n",
    "import pandas as pd\n",
    "from IPython.display import clear_output\n",
    "import matplotlib.pyplot as plt\n",
    "from pathlib import Path\n",
    "import numpy as np\n",
    "from flask import render_template\n",
    "import traceback\n",
    "from datetime import datetime\n",
    "import pickle\n",
    "import pandas as pd\n",
    "from IPython.core.debugger import set_trace\n",
    "from sklearn.model_selection import GridSearchCV\n",
    "from speechpy.feature import mfcc\n",
    "import sys\n",
    "\n",
    "sys.path.insert(1, \"./src\")\n",
    "%load_ext autoreload\n",
    "%autoreload 2"
   ]
  },
  {
   "cell_type": "markdown",
   "metadata": {},
   "source": [
    "# Data Preparation & Cleaning"
   ]
  },
  {
   "cell_type": "code",
   "execution_count": 7,
   "metadata": {},
   "outputs": [],
   "source": [
    "from model import CNN_classif, train_model, run_model"
   ]
  },
  {
   "cell_type": "code",
   "execution_count": 8,
   "metadata": {},
   "outputs": [],
   "source": [
    "from misc_funcs import (\n",
    "    MAIN_DIR,\n",
    "    DATA_DIR,\n",
    "    WAV_DIR,\n",
    "    MFCC_DIR,\n",
    "    MODEL_DIR,\n",
    "    DE2EN,\n",
    "    EN2DE,\n",
    "    EN2NUM,\n",
    "    NUM2EN,\n",
    "    FULL_EM,\n",
    "    DE2NUM,\n",
    "    load_wav_data,\n",
    "    get_mfcc,\n",
    "    save_mfcc_data,\n",
    "    load_mfcc_data,\n",
    ")"
   ]
  },
  {
   "cell_type": "markdown",
   "metadata": {},
   "source": [
    "# Feature Engineering & Modeling"
   ]
  },
  {
   "cell_type": "markdown",
   "metadata": {},
   "source": [
    "## Grid Search"
   ]
  },
  {
   "cell_type": "code",
   "execution_count": 12,
   "metadata": {},
   "outputs": [],
   "source": [
    "class CNN_classif(nn.Module):\n",
    "    def __init__(self):\n",
    "        super(CNN_classif, self).__init__()\n",
    "        self.convblock1 = nn.Sequential(\n",
    "            nn.Conv2d(1, 8, kernel_size=13), nn.BatchNorm2d(8), nn.ReLU()\n",
    "        )\n",
    "        self.convblock2 = nn.Sequential(\n",
    "            nn.Conv2d(8, 8, kernel_size=13),\n",
    "            nn.BatchNorm2d(8),\n",
    "            nn.ReLU(),\n",
    "            nn.MaxPool2d(kernel_size=(2, 1)),\n",
    "        )\n",
    "        self.convblock3 = nn.Sequential(\n",
    "            nn.Conv2d(8, 8, kernel_size=13), nn.BatchNorm2d(8), nn.ReLU()\n",
    "        )\n",
    "        self.convblock4 = nn.Sequential(\n",
    "            nn.Conv2d(8, 8, kernel_size=2),\n",
    "            nn.BatchNorm2d(8),\n",
    "            nn.ReLU(),\n",
    "            nn.MaxPool2d(kernel_size=(2, 1)),\n",
    "        )\n",
    "        self.linblock = nn.Sequential(\n",
    "            nn.Flatten(),\n",
    "            nn.Linear(896, 64),\n",
    "            nn.ReLU(),\n",
    "            nn.Dropout(0.2),\n",
    "            nn.Linear(64, 7),\n",
    "        )\n",
    "\n",
    "    def forward(self, x):\n",
    "        # set_trace()\n",
    "        x = self.convblock1(x)\n",
    "        x = self.convblock2(x)\n",
    "        x = self.convblock3(x)\n",
    "        x = self.convblock4(x)\n",
    "        x = self.linblock(x)\n",
    "        return x"
   ]
  },
  {
   "cell_type": "code",
   "execution_count": 13,
   "metadata": {},
   "outputs": [],
   "source": [
    "model = CNN_classif()"
   ]
  },
  {
   "cell_type": "code",
   "execution_count": 16,
   "metadata": {},
   "outputs": [
    {
     "name": "stderr",
     "output_type": "stream",
     "text": [
      "/home/ymentha/anaconda3/envs/ML/lib/python3.7/site-packages/scipy/io/wavfile.py:273: WavFileWarning: Chunk (non-data) not understood, skipping it.\n",
      "  WavFileWarning)\n"
     ]
    },
    {
     "name": "stdout",
     "output_type": "stream",
     "text": [
      "Saving done!\n"
     ]
    }
   ],
   "source": [
    "file_names, sfs, data, targets = load_wav_data()\n",
    "data_f = get_mfcc(data, sfs)\n",
    "save_mfcc_data(file_names, data_f, targets)"
   ]
  },
  {
   "cell_type": "code",
   "execution_count": 32,
   "metadata": {},
   "outputs": [],
   "source": []
  },
  {
   "cell_type": "code",
   "execution_count": 33,
   "metadata": {},
   "outputs": [],
   "source": [
    "call1 = EpochScoring(on_train=True, lower_is_better=False, scoring=accuracy_score)"
   ]
  },
  {
   "cell_type": "code",
   "execution_count": 39,
   "metadata": {},
   "outputs": [],
   "source": [
    "net = NeuralNetClassifier(\n",
    "    model.double(),\n",
    "    batch_size=20,\n",
    "    max_epochs=3,\n",
    "    lr=1e-4,\n",
    "    train_split=skorch.dataset.CVSplit(5),\n",
    "    optimizer=optim.Adam,\n",
    "    criterion=nn.CrossEntropyLoss,\n",
    "    # Shuffle training data on each epoch\n",
    "    iterator_train__shuffle=True,\n",
    "    callbacks=[call1],\n",
    ")"
   ]
  },
  {
   "cell_type": "code",
   "execution_count": 40,
   "metadata": {
    "collapsed": true,
    "jupyter": {
     "outputs_hidden": true
    }
   },
   "outputs": [
    {
     "name": "stdout",
     "output_type": "stream",
     "text": [
      "  epoch    accuracy_score    train_loss    valid_acc    valid_loss      dur\n",
      "-------  ----------------  ------------  -----------  ------------  -------\n",
      "      1            \u001b[36m0.2429\u001b[0m        \u001b[32m1.8329\u001b[0m       \u001b[35m0.2793\u001b[0m        \u001b[31m1.7267\u001b[0m  28.2270\n",
      "      2            \u001b[36m0.3160\u001b[0m        \u001b[32m1.7057\u001b[0m       \u001b[35m0.3243\u001b[0m        \u001b[31m1.6908\u001b[0m  27.8770\n",
      "      3            \u001b[36m0.4127\u001b[0m        \u001b[32m1.6062\u001b[0m       \u001b[35m0.4144\u001b[0m        \u001b[31m1.6497\u001b[0m  28.0742\n"
     ]
    },
    {
     "data": {
      "text/plain": [
       "<class 'skorch.classifier.NeuralNetClassifier'>[initialized](\n",
       "  module_=CNN_classif(\n",
       "    (convblock1): Sequential(\n",
       "      (0): Conv2d(1, 8, kernel_size=(13, 13), stride=(1, 1))\n",
       "      (1): BatchNorm2d(8, eps=1e-05, momentum=0.1, affine=True, track_running_stats=True)\n",
       "      (2): ReLU()\n",
       "    )\n",
       "    (convblock2): Sequential(\n",
       "      (0): Conv2d(8, 8, kernel_size=(13, 13), stride=(1, 1))\n",
       "      (1): BatchNorm2d(8, eps=1e-05, momentum=0.1, affine=True, track_running_stats=True)\n",
       "      (2): ReLU()\n",
       "      (3): MaxPool2d(kernel_size=(2, 1), stride=(2, 1), padding=0, dilation=1, ceil_mode=False)\n",
       "    )\n",
       "    (convblock3): Sequential(\n",
       "      (0): Conv2d(8, 8, kernel_size=(13, 13), stride=(1, 1))\n",
       "      (1): BatchNorm2d(8, eps=1e-05, momentum=0.1, affine=True, track_running_stats=True)\n",
       "      (2): ReLU()\n",
       "    )\n",
       "    (convblock4): Sequential(\n",
       "      (0): Conv2d(8, 8, kernel_size=(2, 2), stride=(1, 1))\n",
       "      (1): BatchNorm2d(8, eps=1e-05, momentum=0.1, affine=True, track_running_stats=True)\n",
       "      (2): ReLU()\n",
       "      (3): MaxPool2d(kernel_size=(2, 1), stride=(2, 1), padding=0, dilation=1, ceil_mode=False)\n",
       "    )\n",
       "    (linblock): Sequential(\n",
       "      (0): Flatten()\n",
       "      (1): Linear(in_features=896, out_features=64, bias=True)\n",
       "      (2): ReLU()\n",
       "      (3): Dropout(p=0.2, inplace=False)\n",
       "      (4): Linear(in_features=64, out_features=7, bias=True)\n",
       "    )\n",
       "  ),\n",
       ")"
      ]
     },
     "execution_count": 40,
     "metadata": {},
     "output_type": "execute_result"
    }
   ],
   "source": [
    "net.fit(data_f.astype(np.double), targets.astype(np.long))"
   ]
  },
  {
   "cell_type": "code",
   "execution_count": 59,
   "metadata": {},
   "outputs": [
    {
     "data": {
      "text/plain": [
       "{'scoring': <function skorch.utils.train_loss_score(net, X=None, y=None)>,\n",
       " 'lower_is_better': True,\n",
       " 'on_train': True,\n",
       " 'name': 'train_loss',\n",
       " 'target_extractor': <function skorch.utils.noop(*args, **kwargs)>,\n",
       " 'use_caching': True}"
      ]
     },
     "execution_count": 59,
     "metadata": {},
     "output_type": "execute_result"
    }
   ],
   "source": [
    "net.callbacks_[1][1].get_params()"
   ]
  },
  {
   "cell_type": "code",
   "execution_count": 70,
   "metadata": {},
   "outputs": [
    {
     "data": {
      "text/plain": [
       "0.27927927927927926"
      ]
     },
     "execution_count": 70,
     "metadata": {},
     "output_type": "execute_result"
    }
   ],
   "source": [
    "net.history[0][\"accuracy_score\"]\n",
    "net.history[0][\"valid_acc\"]"
   ]
  },
  {
   "cell_type": "code",
   "execution_count": 73,
   "metadata": {},
   "outputs": [],
   "source": [
    "res = [[i[\"accuracy_score\"], i[\"valid_acc\"]] for i in net.history]"
   ]
  },
  {
   "cell_type": "code",
   "execution_count": 76,
   "metadata": {},
   "outputs": [],
   "source": []
  },
  {
   "cell_type": "code",
   "execution_count": 77,
   "metadata": {},
   "outputs": [
    {
     "data": {
      "text/plain": [
       "[<matplotlib.lines.Line2D at 0x7ffa2f743750>,\n",
       " <matplotlib.lines.Line2D at 0x7ffa2f743990>]"
      ]
     },
     "execution_count": 77,
     "metadata": {},
     "output_type": "execute_result"
    },
    {
     "data": {
      "image/png": "[encoded data removed]",
      "text/plain": [
       "<Figure size 432x288 with 1 Axes>"
      ]
     },
     "metadata": {},
     "output_type": "display_data"
    }
   ],
   "source": [
    "plt.plot(res)"
   ]
  },
  {
   "cell_type": "code",
   "execution_count": 78,
   "metadata": {},
   "outputs": [],
   "source": [
    "params = {\n",
    "    \"lr\": [1e-4, 1e-3],\n",
    "    \"optimizer\": [optim.SGD, optim.Adam],\n",
    "}"
   ]
  },
  {
   "cell_type": "code",
   "execution_count": 80,
   "metadata": {},
   "outputs": [],
   "source": [
    "net = NeuralNetClassifier(\n",
    "    model.double(), max_epochs=3, lr=0.1, verbose=0, optimizer__momentum=0.9,\n",
    ")"
   ]
  },
  {
   "cell_type": "code",
   "execution_count": null,
   "metadata": {},
   "outputs": [],
   "source": [
    "gs = GridSearchCV(net, params, refit=False, cv=3, scoring='accuracy', verbose=2)"
   ]
  },
  {
   "cell_type": "markdown",
   "metadata": {},
   "source": [
    "## LSTM"
   ]
  },
  {
   "cell_type": "code",
   "execution_count": 79,
   "metadata": {},
   "outputs": [
    {
     "name": "stderr",
     "output_type": "stream",
     "text": [
      "Using TensorFlow backend.\n"
     ]
    }
   ],
   "source": [
    "from keras.layers import LSTM as KERAS_LSTM"
   ]
  },
  {
   "cell_type": "code",
   "execution_count": null,
   "metadata": {},
   "outputs": [],
   "source": [
    "KERAS_LSTM()"
   ]
  },
  {
   "cell_type": "code",
   "execution_count": 117,
   "metadata": {},
   "outputs": [],
   "source": [
    "class LSTM_classif(nn.Module):\n",
    "    def __init__(self):\n",
    "        super(LSTM_classif,self).__init__()\n",
    "        #self.lstm = nn.LSTM(num_layers=128,input_size = (int(275),int(39)),\n",
    "                           #hidden_size=128)\n",
    "        self.lstm = nn.LSTM([int(3),int(2)],3)\n",
    "        self.out_layer = nn.Sequential(nn.Dropout(0.5),\n",
    "                                       nn.Linear(1,32),\n",
    "                                       nn.ReLU(),\n",
    "                                       nn.Linear(32,16),\n",
    "                                       nn.Tanh())\n",
    "    "
   ]
  },
  {
   "cell_type": "code",
   "execution_count": 41,
   "metadata": {},
   "outputs": [
    {
     "name": "stdout",
     "output_type": "stream",
     "text": [
      "Saving done!\n"
     ]
    }
   ],
   "source": [
    "file_names,sfs,data,targets = load_wav_data()\n",
    "data_f = get_mfcc(data,sfs)\n",
    "save_mfcc_data(file_names,data_f,targets)\n",
    "file_names,data_f,targets = load_mfcc_data('./data/mfcc')"
   ]
  },
  {
   "cell_type": "markdown",
   "metadata": {},
   "source": [
    "# Results & Visualizations"
   ]
  },
  {
   "cell_type": "code",
   "execution_count": 2,
   "metadata": {},
   "outputs": [],
   "source": [
    "# TODO: epochs vs accuracy, sklearn gridsearch, LSTM, report, pimp GUI"
   ]
  },
  {
   "cell_type": "markdown",
   "metadata": {},
   "source": [
    "## Sleeping Code"
   ]
  },
  {
   "cell_type": "code",
   "execution_count": 283,
   "metadata": {},
   "outputs": [],
   "source": [
    "import tensorflow as tf\n",
    "\n",
    "loss  = tf.keras.losses.BinaryCrossentropy()\n",
    "\n",
    "loss([0., 0., 1., 1.], [1., 1., 1., 0.])\n",
    "\n",
    "loss2 = nn.NLLLoss()\n",
    "input2 = torch.Tensor([[1.0,0.0],[1.0,0.0], [0.0,1.0],[0.0,1.0]])\n",
    "input2.requires_grad_ = True\n",
    "target2 = torch.Tensor([1,1,1,0]).long()\n",
    "loss2(input2, target2)\n",
    "\n",
    "loss3 = nn.BCELoss(reduction='mean')\n",
    "input3 = torch.Tensor([0., 0., 1., 1.])\n",
    "target3 = torch.Tensor([1., 1., 1., 0.])\n",
    "loss3(input3,target3 )"
   ]
  },
  {
   "cell_type": "code",
   "execution_count": 6,
   "metadata": {},
   "outputs": [],
   "source": [
    "def load_pd_data(wav_dir=WAV_DIR):\n",
    "    for root, dirs, files in os.walk(wav_dir, topdown=False):\n",
    "        paths = [os.path.join(root,file) for file in files]\n",
    "        data = []\n",
    "        for file in files:\n",
    "            audio_data = wavfile.read(os.path.join(root,file))[1]\n",
    "            speaker_id,text_id,emotion_en = parse_filename(file)\n",
    "            row = [speaker_id,text_id,emotion_en,audio_data]\n",
    "            data.append(row)\n",
    "    res = pd.DataFrame(data,columns=[\"speaker_id\",\"text_id\",\"emotion\",\"data\"])\n",
    "    return res.join(speaker_data,on=\"speaker_id\")"
   ]
  },
  {
   "cell_type": "code",
   "execution_count": 4,
   "metadata": {},
   "outputs": [],
   "source": [
    "def parse_filename(filename):\n",
    "    \"\"\"\n",
    "    parses the attributes of a given sample based on its filename\n",
    "    \"\"\"\n",
    "    speaker_id = int(filename[:2])\n",
    "    text_id = filename[2:5]\n",
    "    emotion_de = filename[5]\n",
    "    #emotion_en = DE2EN[emotion_de]\n",
    "    #return speaker_id,text_id,emotion_en\n",
    "    return text_id"
   ]
  },
  {
   "cell_type": "code",
   "execution_count": 5,
   "metadata": {},
   "outputs": [],
   "source": [
    "speaker_data = [[3  , 'male',  31],\n",
    "                [8  , 'female',34 ],\n",
    "                [9  , 'female',21 ],\n",
    "                [10 , 'male',  32 ],\n",
    "                [11 , 'male',  26 ],\n",
    "                [12 , 'male',  30] ,\n",
    "                [13 , 'female',32], \n",
    "                [14 , 'female',35] ,\n",
    "                [15 , 'male',  25] ,\n",
    "                [16 , 'female',31]]\n",
    "speaker_data = pd.DataFrame(speaker_data,columns = ['speaker_id','sex','age'])\n",
    "speaker_data.set_index('speaker_id',inplace=True)"
   ]
  }
 ],
 "metadata": {
  "kernelspec": {
   "display_name": "Python 3",
   "language": "python",
   "name": "python3"
  },
  "language_info": {
   "codemirror_mode": {
    "name": "ipython",
    "version": 3
   },
   "file_extension": ".py",
   "mimetype": "text/x-python",
   "name": "python",
   "nbconvert_exporter": "python",
   "pygments_lexer": "ipython3",
   "version": "3.7.4"
  }
 },
 "nbformat": 4,
 "nbformat_minor": 4
}

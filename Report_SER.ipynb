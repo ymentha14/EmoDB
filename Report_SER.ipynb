{
 "cells": [
  {
   "cell_type": "markdown",
   "metadata": {},
   "source": [
    "# Introduction"
   ]
  },
  {
   "cell_type": "markdown",
   "metadata": {},
   "source": [
    "Do not spend too much time trying to get very tiny metrics improvement. Once you have a model with a correct predictive power, you should better spend time explaining your data cleaning & preparation pipeline as well as explanations & visualizations of the results.\n",
    "\n",
    "The goal is to see your fit with our company culture & engineering needs, spending 50h on an over-complicated approach will not give you bonus points compared to a simple, yet effective, to-the-point solution."
   ]
  },
  {
   "cell_type": "markdown",
   "metadata": {},
   "source": [
    "## About the data"
   ]
  },
  {
   "cell_type": "markdown",
   "metadata": {},
   "source": [
    "The dataset you will be working with is called Emo-DB and can be found [here](http://emodb.bilderbar.info/index-1280.html).\n",
    "\n",
    "It is a database containing samples of emotional speech in German. It contains samples labeled with one of 7 different emotions: Anger, Boredom, Disgust, Fear, Happiness, Sadness and Neutral. \n",
    "\n",
    "Please download the full database and refer to the documentation to understand how the samples are labeled (see \"Additional information\")\n",
    "   \n",
    "The goal of this project is to develop a model which is able to **classify samples of emotional speech**. Feel free to use any available library you would need, but beware of re-using someone else's code without mentionning it!"
   ]
  },
  {
   "cell_type": "markdown",
   "metadata": {},
   "source": [
    "## Deliverable"
   ]
  },
  {
   "cell_type": "markdown",
   "metadata": {},
   "source": [
    "The end-goal is to deliver us a zip file containing:\n",
    "* This report filled with your approach, in the form of an **iPython Notebook**.\n",
    "* A **5-10 slides PDF file**, containing a technical presentation covering the important aspects of your work\n",
    "* A Dockerfile which defines a container for the project. The container should handle everything (download the data, run the code, etc...). When running the container it should expose the jupyter notebook on one port and expose a Flask API on another one. The Flask app contains two endpoints:\n",
    "  - One for training the model\n",
    "  - One for querying the last trained model with an audio file of our choice in the dataset\n",
    "* A README.md which should contain the commands to build and run the docker container, as well as how to perform the queries to the API. \n",
    "* Any necessary .py, .sh or other files needed to run your code."
   ]
  },
  {
   "cell_type": "markdown",
   "metadata": {},
   "source": [
    "# Libraries Loading"
   ]
  },
  {
   "cell_type": "code",
   "execution_count": 16,
   "metadata": {},
   "outputs": [
    {
     "name": "stdout",
     "output_type": "stream",
     "text": [
      "assistproba  DataVis  DeepLearning  LabDS  OptforML  Visiumapp\n"
     ]
    }
   ],
   "source": [
    "!ls .."
   ]
  },
  {
   "cell_type": "code",
   "execution_count": 1,
   "metadata": {},
   "outputs": [],
   "source": [
    "import glob\n",
    "from scipy.io import wavfile\n",
    "import os\n",
    "import numpy as np\n",
    "import pandas as pd\n",
    "import numpy as np\n",
    "from flask import render_template\n",
    "import traceback\n",
    "import pickle\n",
    "import pandas as pd\n",
    "from IPython.core.debugger import set_trace"
   ]
  },
  {
   "cell_type": "code",
   "execution_count": null,
   "metadata": {},
   "outputs": [],
   "source": [
    "render_template()"
   ]
  },
  {
   "cell_type": "markdown",
   "metadata": {},
   "source": [
    "# Data Preparation & Cleaning"
   ]
  },
  {
   "cell_type": "code",
   "execution_count": 7,
   "metadata": {},
   "outputs": [],
   "source": [
    "DE2EN = {'W':'A', #Wut-Anger\n",
    "         'L':'B', #Langeweile-Bordom\n",
    "         'E':'D', #Ekel-Disgust\n",
    "         'A':'F', #Angst-Fear\n",
    "         'F':'H', #Freude-Happiness\n",
    "         'T':'S',\n",
    "         'N':'N'} #Traueer-Sadness\n",
    "EN2DE = {item:key for key,item in DE2EN.items()}"
   ]
  },
  {
   "cell_type": "code",
   "execution_count": 8,
   "metadata": {},
   "outputs": [],
   "source": [
    "DATA_DIR = \"./data\"\n",
    "WAV_DIR = os.path.join(DATA_DIR,\"wav\")\n",
    "temp = wavfile.read(\"./data/wav/03a01Fa.wav\")"
   ]
  },
  {
   "cell_type": "code",
   "execution_count": 9,
   "metadata": {},
   "outputs": [],
   "source": [
    "def parse_filename(filename):\n",
    "    \"\"\"\n",
    "    parses the attributes of a given sample based on its filename\n",
    "    \"\"\"\n",
    "    speaker_id = int(filename[:2])\n",
    "    text_id = filename[2:5]\n",
    "    emotion_de = filename[5]\n",
    "    emotion_en = DE2EN[emotion_de]\n",
    "    return speaker_id,text_id,emotion_en"
   ]
  },
  {
   "cell_type": "code",
   "execution_count": 10,
   "metadata": {},
   "outputs": [],
   "source": [
    "speaker_data = [[3  , 'male',  31],\n",
    "                [8  , 'female',34 ],\n",
    "                [9  , 'female',21 ],\n",
    "                [10 , 'male',  32 ],\n",
    "                [11 , 'male',  26 ],\n",
    "                [12 , 'male',  30] ,\n",
    "                [13 , 'female',32], \n",
    "                [14 , 'female',35] ,\n",
    "                [15 , 'male',  25] ,\n",
    "                [16 , 'female',31]]\n",
    "speaker_data = pd.DataFrame(speaker_data,columns = ['speaker_id','sex','age'])\n",
    "speaker_data.set_index('speaker_id',inplace=True)"
   ]
  },
  {
   "cell_type": "code",
   "execution_count": 11,
   "metadata": {},
   "outputs": [],
   "source": [
    "def load_data(wav_dir=WAV_DIR):\n",
    "    for root, dirs, files in os.walk(wav_dir, topdown=False):\n",
    "        paths = [os.path.join(root,file) for file in files]\n",
    "        #the sample rate is always the same, we discard it\n",
    "        data = []\n",
    "        for file in files:\n",
    "            audio_data = wavfile.read(os.path.join(root,file))[1]\n",
    "            speaker_id,text_id,emotion_en = parse_filename(file)\n",
    "            row = [speaker_id,text_id,emotion_en,audio_data]\n",
    "            data.append(row)\n",
    "    res = pd.DataFrame(data,columns=[\"speaker_id\",\"text_id\",\"emotion\",\"data\"])\n",
    "    return res.join(speaker_data,on=\"speaker_id\")"
   ]
  },
  {
   "cell_type": "code",
   "execution_count": 12,
   "metadata": {},
   "outputs": [
    {
     "name": "stderr",
     "output_type": "stream",
     "text": [
      "/home/ymentha/anaconda3/envs/ML/lib/python3.7/site-packages/scipy/io/wavfile.py:273: WavFileWarning: Chunk (non-data) not understood, skipping it.\n",
      "  WavFileWarning)\n"
     ]
    },
    {
     "data": {
      "text/html": [
       "<div>\n",
       "<style scoped>\n",
       "    .dataframe tbody tr th:only-of-type {\n",
       "        vertical-align: middle;\n",
       "    }\n",
       "\n",
       "    .dataframe tbody tr th {\n",
       "        vertical-align: top;\n",
       "    }\n",
       "\n",
       "    .dataframe thead th {\n",
       "        text-align: right;\n",
       "    }\n",
       "</style>\n",
       "<table border=\"1\" class=\"dataframe\">\n",
       "  <thead>\n",
       "    <tr style=\"text-align: right;\">\n",
       "      <th></th>\n",
       "      <th>speaker_id</th>\n",
       "      <th>text_id</th>\n",
       "      <th>emotion</th>\n",
       "      <th>data</th>\n",
       "      <th>sex</th>\n",
       "      <th>age</th>\n",
       "    </tr>\n",
       "  </thead>\n",
       "  <tbody>\n",
       "    <tr>\n",
       "      <td>0</td>\n",
       "      <td>13</td>\n",
       "      <td>b03</td>\n",
       "      <td>A</td>\n",
       "      <td>[12, -39, -39, -26, -45, -16, -45, -74, -88, -...</td>\n",
       "      <td>female</td>\n",
       "      <td>32</td>\n",
       "    </tr>\n",
       "    <tr>\n",
       "      <td>1</td>\n",
       "      <td>8</td>\n",
       "      <td>b02</td>\n",
       "      <td>A</td>\n",
       "      <td>[0, -4, -2, 0, 0, -2, -2, -2, -2, -4, -6, -4, ...</td>\n",
       "      <td>female</td>\n",
       "      <td>34</td>\n",
       "    </tr>\n",
       "    <tr>\n",
       "      <td>2</td>\n",
       "      <td>13</td>\n",
       "      <td>a07</td>\n",
       "      <td>S</td>\n",
       "      <td>[0, 36, -12, -60, -60, -72, -120, -144, -192, ...</td>\n",
       "      <td>female</td>\n",
       "      <td>32</td>\n",
       "    </tr>\n",
       "    <tr>\n",
       "      <td>3</td>\n",
       "      <td>3</td>\n",
       "      <td>b02</td>\n",
       "      <td>A</td>\n",
       "      <td>[41, 37, 25, 7, -3, -1, 1, 14, 19, 19, 12, 1, ...</td>\n",
       "      <td>male</td>\n",
       "      <td>31</td>\n",
       "    </tr>\n",
       "    <tr>\n",
       "      <td>4</td>\n",
       "      <td>9</td>\n",
       "      <td>b02</td>\n",
       "      <td>S</td>\n",
       "      <td>[0, 0, 0, -29, -58, -88, -58, -58, -58, -88, -...</td>\n",
       "      <td>female</td>\n",
       "      <td>21</td>\n",
       "    </tr>\n",
       "    <tr>\n",
       "      <td>...</td>\n",
       "      <td>...</td>\n",
       "      <td>...</td>\n",
       "      <td>...</td>\n",
       "      <td>...</td>\n",
       "      <td>...</td>\n",
       "      <td>...</td>\n",
       "    </tr>\n",
       "    <tr>\n",
       "      <td>530</td>\n",
       "      <td>3</td>\n",
       "      <td>a05</td>\n",
       "      <td>S</td>\n",
       "      <td>[7, -23, 0, -7, -7, 0, -23, 0, -23, -7, -15, -...</td>\n",
       "      <td>male</td>\n",
       "      <td>31</td>\n",
       "    </tr>\n",
       "    <tr>\n",
       "      <td>531</td>\n",
       "      <td>16</td>\n",
       "      <td>b02</td>\n",
       "      <td>A</td>\n",
       "      <td>[1, 1, 1, 1, 1, 0, -3, -3, -3, -3, -5, -5, -3,...</td>\n",
       "      <td>female</td>\n",
       "      <td>31</td>\n",
       "    </tr>\n",
       "    <tr>\n",
       "      <td>532</td>\n",
       "      <td>13</td>\n",
       "      <td>a05</td>\n",
       "      <td>B</td>\n",
       "      <td>[69, 174, -75, -284, -203, -81, -110, -29, 58,...</td>\n",
       "      <td>female</td>\n",
       "      <td>32</td>\n",
       "    </tr>\n",
       "    <tr>\n",
       "      <td>533</td>\n",
       "      <td>8</td>\n",
       "      <td>a02</td>\n",
       "      <td>B</td>\n",
       "      <td>[-6, -3, 6, 0, 3, 6, 0, 6, 6, 13, 13, 3, 13, 1...</td>\n",
       "      <td>female</td>\n",
       "      <td>34</td>\n",
       "    </tr>\n",
       "    <tr>\n",
       "      <td>534</td>\n",
       "      <td>12</td>\n",
       "      <td>b03</td>\n",
       "      <td>S</td>\n",
       "      <td>[45, 114, 68, -15, -15, 30, 38, 45, 15, 22, 30...</td>\n",
       "      <td>male</td>\n",
       "      <td>30</td>\n",
       "    </tr>\n",
       "  </tbody>\n",
       "</table>\n",
       "<p>535 rows × 6 columns</p>\n",
       "</div>"
      ],
      "text/plain": [
       "     speaker_id text_id emotion  \\\n",
       "0            13     b03       A   \n",
       "1             8     b02       A   \n",
       "2            13     a07       S   \n",
       "3             3     b02       A   \n",
       "4             9     b02       S   \n",
       "..          ...     ...     ...   \n",
       "530           3     a05       S   \n",
       "531          16     b02       A   \n",
       "532          13     a05       B   \n",
       "533           8     a02       B   \n",
       "534          12     b03       S   \n",
       "\n",
       "                                                  data     sex  age  \n",
       "0    [12, -39, -39, -26, -45, -16, -45, -74, -88, -...  female   32  \n",
       "1    [0, -4, -2, 0, 0, -2, -2, -2, -2, -4, -6, -4, ...  female   34  \n",
       "2    [0, 36, -12, -60, -60, -72, -120, -144, -192, ...  female   32  \n",
       "3    [41, 37, 25, 7, -3, -1, 1, 14, 19, 19, 12, 1, ...    male   31  \n",
       "4    [0, 0, 0, -29, -58, -88, -58, -58, -58, -88, -...  female   21  \n",
       "..                                                 ...     ...  ...  \n",
       "530  [7, -23, 0, -7, -7, 0, -23, 0, -23, -7, -15, -...    male   31  \n",
       "531  [1, 1, 1, 1, 1, 0, -3, -3, -3, -3, -5, -5, -3,...  female   31  \n",
       "532  [69, 174, -75, -284, -203, -81, -110, -29, 58,...  female   32  \n",
       "533  [-6, -3, 6, 0, 3, 6, 0, 6, 6, 13, 13, 3, 13, 1...  female   34  \n",
       "534  [45, 114, 68, -15, -15, 30, 38, 45, 15, 22, 30...    male   30  \n",
       "\n",
       "[535 rows x 6 columns]"
      ]
     },
     "execution_count": 12,
     "metadata": {},
     "output_type": "execute_result"
    }
   ],
   "source": [
    "load_data()"
   ]
  },
  {
   "cell_type": "markdown",
   "metadata": {},
   "source": [
    "# Feature Engineering & Modeling"
   ]
  },
  {
   "cell_type": "code",
   "execution_count": 13,
   "metadata": {},
   "outputs": [],
   "source": [
    "def dummy_model(filename):\n",
    "    data = wavfile.read(os.path.join(WAV_DIR,filename))[1]\n",
    "    return filename[5]"
   ]
  },
  {
   "cell_type": "code",
   "execution_count": 14,
   "metadata": {},
   "outputs": [
    {
     "data": {
      "text/plain": [
       "'F'"
      ]
     },
     "execution_count": 14,
     "metadata": {},
     "output_type": "execute_result"
    }
   ],
   "source": [
    "dummy_model('03a01Fa.wav')"
   ]
  },
  {
   "cell_type": "markdown",
   "metadata": {},
   "source": [
    "# Results & Visualizations"
   ]
  },
  {
   "cell_type": "code",
   "execution_count": 11,
   "metadata": {},
   "outputs": [],
   "source": [
    "app = Flask(__name__)\n",
    "@app.route('/')\n",
    "def index():\n",
    "    return render_template('./index.html')"
   ]
  },
  {
   "cell_type": "code",
   "execution_count": 43,
   "metadata": {},
   "outputs": [],
   "source": [
    "# App definition\n",
    "app = Flask(__name__,template_folder='templates')\n",
    " \n",
    "# importing models\n",
    "with open('webapp/model/model.pkl', 'rb') as f:\n",
    "    classifier = pickle.load (f)\n",
    "\n",
    "with open('webapp/model/model_columns.pkl', 'rb') as f:\n",
    "    model_columns = pickle.load (f)\n",
    " \n",
    " \n",
    "@app.route('/')\n",
    "def welcome():\n",
    "    return \"Home Speech Recognition \\n\"\n",
    "\n",
    "\n",
    "@app.route('/predict', methods=['GET','POST'])\n",
    "def post():\n",
    "  \n",
    "    if flask.request.method == 'GET':\n",
    "        return \"Prediction page\\n\"\n",
    " \n",
    "    if flask.request.method == 'POST':\n",
    "        try: \n",
    "            #json_ is a string here\n",
    "            json_ = request.json\n",
    "            print(json_)\n",
    "            #set_trace()\n",
    "            pred = dummy_model(json_)\n",
    "            return jsonify({\n",
    "               \"pred\":str(pred)\n",
    "           })\n",
    " \n",
    "        except:\n",
    "            return jsonify({\n",
    "                    \"FUCK\"\n",
    "               })"
   ]
  }
 ],
 "metadata": {
  "kernelspec": {
   "display_name": "Python 3",
   "language": "python",
   "name": "python3"
  },
  "language_info": {
   "codemirror_mode": {
    "name": "ipython",
    "version": 3
   },
   "file_extension": ".py",
   "mimetype": "text/x-python",
   "name": "python",
   "nbconvert_exporter": "python",
   "pygments_lexer": "ipython3",
   "version": "3.7.4"
  }
 },
 "nbformat": 4,
 "nbformat_minor": 4
}

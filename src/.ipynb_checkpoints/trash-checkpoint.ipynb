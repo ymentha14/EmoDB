{
 "cells": [
  {
   "cell_type": "code",
   "execution_count": 6,
   "metadata": {},
   "outputs": [
    {
     "name": "stdout",
     "output_type": "stream",
     "text": [
      "hello ../data\n",
      "Saving done!\n"
     ]
    }
   ],
   "source": [
    "import numpy as np\n",
    "import os\n",
    "from IPython.core.debugger import set_trace\n",
    "from scipy.io import wavfile\n",
    "from pathlib import Path\n",
    "import pickle\n",
    "\n",
    "DATA_DIR = \"/data\"\n",
    "WAV_DIR = os.path.join(DATA_DIR,\"wav\")\n",
    "DE2EN = {'W':'A', #Wut-Anger\n",
    "         'L':'B', #Langeweile-Bordom\n",
    "         'E':'D', #Ekel-Disgust\n",
    "         'A':'F', #Angst-Fear\n",
    "         'F':'H', #Freude-Happiness\n",
    "         'T':'S',\n",
    "         'N':'N'} #Traueer-Sadness\n",
    "EN2DE = {value:key for key,value in DE2EN.items()}\n",
    "EN2NUM = {item[1]:num for item,num in zip(DE2EN.items(),range(len(DE2EN)))}\n",
    "DE2NUM = {item[0]:num for item,num in zip(DE2EN.items(),range(len(DE2EN)))}\n",
    "\n",
    "def zeropadd(data,mode='max'):\n",
    "    if mode == 'max':\n",
    "        new_len = max([x.shape[0] for x in data])\n",
    "    else:\n",
    "\n",
    "        new_len = int(np.round(np.mean([x.shape[0] for x in data])))\n",
    "    def padd(x):\n",
    "        diff = abs(new_len - x.shape[0])\n",
    "        shift = diff %2\n",
    "        diff //=2\n",
    "        if x.shape[0] < new_len:\n",
    "            return np.pad(x,(diff,diff+shift),'constant')\n",
    "        else:\n",
    "            return x[diff:-(diff+shift)]\n",
    "    data_padded = np.zeros((len(data),new_len))\n",
    "    for i,x in enumerate(data):\n",
    "        data_padded[i] = padd(x)\n",
    "    return data_padded\n",
    "\n",
    "def save_mfcc_data(file_names,data,targets):\n",
    "    Path(\"data/mfcc\").mkdir(parents=False, exist_ok=True)\n",
    "    for file,smple,target in zip(file_names,data,targets):\n",
    "        file_name = file +\".pkl\"\n",
    "        with open(os.path.join(\"data/mfcc\",file_name),'wb') as f:\n",
    "            save_data = (smple,target)\n",
    "            pickle.dump(save_data,f)\n",
    "    print(\"Saving done!\")\n",
    "    \n",
    "def load_data(wav_dir=WAV_DIR):\n",
    "    data = []\n",
    "    sfs = []\n",
    "    targets = []\n",
    "    file_names = []\n",
    "    for root, dirs, files in os.walk(wav_dir, topdown=False):\n",
    "        for file in files:\n",
    "            sf,audio_data = wavfile.read(os.path.join(root,file))\n",
    "            data.append(audio_data)\n",
    "            sfs.append(sf)\n",
    "            target = DE2NUM[file[5].capitalize()]\n",
    "            targets.append(target)\n",
    "            file_names.append(file.strip(\".wav\"))\n",
    "    datapadd = zeropadd(data,mode='mean')\n",
    "    return file_names,np.array(sfs),datapadd,np.array(targets)\n",
    "\n",
    "def save_mfcc_data(file_names,data,targets):\n",
    "    Path(os.path.join(DATA_DIR,\"mfcc\")).mkdir(parents=False, exist_ok=True)\n",
    "    for file,smple,target in zip(file_names,data,targets):\n",
    "        file_name = file +\".pkl\"\n",
    "        with open(os.path.join(DATA_DIR,\"mfcc\",file_name),'wb') as f:\n",
    "            save_data = (smple,target)\n",
    "            pickle.dump(save_data,f)\n",
    "    print(\"Saving done!\")\n",
    "    \n",
    "print(\"hello\",DATA_DIR)\n",
    "file_names,sfs,data,targets = load_data()\n",
    "save_mfcc_data(file_names,data,targets)"
   ]
  }
 ],
 "metadata": {
  "kernelspec": {
   "display_name": "Python 3",
   "language": "python",
   "name": "python3"
  },
  "language_info": {
   "codemirror_mode": {
    "name": "ipython",
    "version": 3
   },
   "file_extension": ".py",
   "mimetype": "text/x-python",
   "name": "python",
   "nbconvert_exporter": "python",
   "pygments_lexer": "ipython3",
   "version": "3.7.4"
  }
 },
 "nbformat": 4,
 "nbformat_minor": 4
}
